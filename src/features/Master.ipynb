{
 "cells": [
  {
   "cell_type": "code",
   "execution_count": 3,
   "metadata": {},
   "outputs": [],
   "source": [
    "import argparse\n",
    "import os\n",
    "from tqdm import tqdm\n",
    "\n",
    "import sys\n",
    "sys.path.append(\"spacenet_lib\")"
   ]
  },
  {
   "cell_type": "code",
   "execution_count": 8,
   "metadata": {},
   "outputs": [
    {
     "data": {
      "text/plain": [
       "['c:\\\\Users\\\\toadi\\\\Documents\\\\GitHub\\\\spacenet_building_detection\\\\src\\\\features',\n",
       " 'c:\\\\Users\\\\toadi\\\\anaconda3\\\\python39.zip',\n",
       " 'c:\\\\Users\\\\toadi\\\\anaconda3\\\\DLLs',\n",
       " 'c:\\\\Users\\\\toadi\\\\anaconda3\\\\lib',\n",
       " 'c:\\\\Users\\\\toadi\\\\anaconda3',\n",
       " '',\n",
       " 'c:\\\\Users\\\\toadi\\\\anaconda3\\\\lib\\\\site-packages',\n",
       " 'c:\\\\Users\\\\toadi\\\\anaconda3\\\\lib\\\\site-packages\\\\win32',\n",
       " 'c:\\\\Users\\\\toadi\\\\anaconda3\\\\lib\\\\site-packages\\\\win32\\\\lib',\n",
       " 'c:\\\\Users\\\\toadi\\\\anaconda3\\\\lib\\\\site-packages\\\\Pythonwin',\n",
       " 'c:\\\\Users\\\\toadi\\\\anaconda3\\\\lib\\\\site-packages\\\\IPython\\\\extensions',\n",
       " 'C:\\\\Users\\\\toadi\\\\.ipython',\n",
       " 'spacenet_lib']"
      ]
     },
     "execution_count": 8,
     "metadata": {},
     "output_type": "execute_result"
    }
   ],
   "source": [
    "sys.path"
   ]
  },
  {
   "cell_type": "code",
   "execution_count": 24,
   "metadata": {},
   "outputs": [
    {
     "name": "stdout",
     "output_type": "stream",
     "text": [
      "c:\\Users\\toadi\\Documents\\GitHub\\spacenet_building_detection\\src\\features\n",
      "c:\\Users\\toadi\\Documents\\GitHub\\spacenet_building_detection\n",
      "c:\\Users\\toadi\\Documents\\GitHub\\spacenet_building_detection\\data\\buildingMaskImages\n"
     ]
    }
   ],
   "source": [
    "currentpath = os.getcwd()\n",
    "print(currentpath)\n",
    "\n",
    "lev2up = os.path.dirname(os.path.dirname(currentpath))\n",
    "print(lev2up)\n",
    "\n",
    "datadir = os.path.join(lev2up,\"data\")\n",
    "rasterdir = os.path.join(datadir,\"3band\")\n",
    "vectordir = os.path.join(datadir,\"processedBuildingLabels\\\\vectordata\")\n",
    "destdir = os.path.join(datadir,\"buildingMaskImages\")\n",
    "print(destdir)"
   ]
  },
  {
   "cell_type": "code",
   "execution_count": null,
   "metadata": {},
   "outputs": [],
   "source": [
    "# Add create_poly_mask\n",
    "\n",
    "# Reference: \n",
    "# https://medium.com/the-downlinq/getting-started-with-spacenet-data-827fd2ec9f53\n",
    "# https://gist.github.com/avanetten/b295e89f6fa9654c9e9e480bdb2e4d60#file-create_building_mask-py\n",
    "\n",
    "from osgeo import gdal, ogr\n",
    "from PIL import Image\n",
    "import numpy as np\n",
    "import os\n",
    "\n",
    "\n",
    "def create_poly_mask(rasterSrc, vectorSrc, npDistFileName='', \n",
    "\t\t\t\t\t\t\tnoDataValue=0, burn_values=1):\n",
    "\n",
    "\t'''\n",
    "\tCreate polygon mask for rasterSrc,\n",
    "\tSimilar to labeltools/createNPPixArray() in spacenet utilities\n",
    "\t'''\n",
    "\t\n",
    "\t## open source vector file that truth data\n",
    "\tsource_ds = ogr.Open(vectorSrc)\n",
    "\tsource_layer = source_ds.GetLayer()\n",
    "\n",
    "\t## extract data from src Raster File to be emulated\n",
    "\t## open raster file that is to be emulated\n",
    "\tsrcRas_ds = gdal.Open(rasterSrc)\n",
    "\tcols = srcRas_ds.RasterXSize\n",
    "\trows = srcRas_ds.RasterYSize\n",
    "\n",
    "\tif npDistFileName == '':\n",
    "\t\tdstPath = \".tmp.tiff\"\n",
    "\telse:\n",
    "\t\tdstPath = npDistFileName\n",
    "\n",
    "\t## create First raster memory layer, units are pixels\n",
    "\t# Change output to geotiff instead of memory \n",
    "\tmemdrv = gdal.GetDriverByName('GTiff') \n",
    "\tdst_ds = memdrv.Create(dstPath, cols, rows, 1, gdal.GDT_Byte, \n",
    "\t\t\t\t\t\t   options=['COMPRESS=LZW'])\n",
    "\tdst_ds.SetGeoTransform(srcRas_ds.GetGeoTransform())\n",
    "\tdst_ds.SetProjection(srcRas_ds.GetProjection())\n",
    "\tband = dst_ds.GetRasterBand(1)\n",
    "\tband.SetNoDataValue(noDataValue)    \n",
    "\tgdal.RasterizeLayer(dst_ds, [1], source_layer, burn_values=[burn_values])\n",
    "\tdst_ds = 0\n",
    "\n",
    "\tmask_image = Image.open(dstPath)\n",
    "\tmask_image = np.array(mask_image)\n",
    "\n",
    "\tif npDistFileName == '':\n",
    "\t\tos.remove(dstPath)\n",
    "\t\t\n",
    "\treturn mask_image"
   ]
  },
  {
   "cell_type": "code",
   "execution_count": null,
   "metadata": {},
   "outputs": [],
   "source": []
  },
  {
   "cell_type": "code",
   "execution_count": 25,
   "metadata": {},
   "outputs": [
    {
     "name": "stderr",
     "output_type": "stream",
     "text": [
      "usage: ipykernel_launcher.py [-h] rasterdir vectordir destdir\n",
      "ipykernel_launcher.py: error: the following arguments are required: rasterdir, vectordir, destdir\n"
     ]
    },
    {
     "ename": "SystemExit",
     "evalue": "2",
     "output_type": "error",
     "traceback": [
      "An exception has occurred, use %tb to see the full traceback.\n",
      "\u001b[1;31mSystemExit\u001b[0m\u001b[1;31m:\u001b[0m 2\n"
     ]
    }
   ],
   "source": [
    "def build_labels(rasterdir, vectordir, destdir):\n",
    "\t\n",
    "\tos.makedirs(destdir, exist_ok=True)\n",
    "\n",
    "\tfile_count = len([f for f in os.walk(vectordir).__next__()[2] if f[-8:] == \".geojson\"])\n",
    "\n",
    "\tprint(\"[INFO] Found {} geojson files. Preparing building mask images...\".format(file_count))\n",
    "\n",
    "\tfor idx in tqdm(range(1, file_count + 1)):\n",
    "\n",
    "\t\tsrc_raster_filename = \"3band_AOI_1_RIO_img{}.tif\".format(idx)\n",
    "\t\tsrc_vector_filename = \"Geo_AOI_1_RIO_img{}.geojson\".format(idx)\n",
    "\n",
    "\t\tsrc_raster_path = os.path.join(rasterdir, src_raster_filename)\n",
    "\t\tsrc_vector_path = os.path.join(vectordir, src_vector_filename)\n",
    "\t\tdst_path = os.path.join(destdir, src_raster_filename)\n",
    "\n",
    "\t\tcreate_poly_mask(\n",
    "\t\t\tsrc_raster_path, src_vector_path, npDistFileName=dst_path, \n",
    "\t\t\tnoDataValue=0, burn_values=255\n",
    "\t\t)\n",
    "\n",
    "\n",
    "if __name__ == \"__main__\":\n",
    "\n",
    "\tparser = argparse.ArgumentParser()\n",
    "\n",
    "\tparser.add_argument('rasterdir', help='Root directory for raster files (.tif)')\n",
    "\tparser.add_argument('vectordir', help='Root directory for vector files (.geojson)')\n",
    "\tparser.add_argument('destdir', help='Output directory')\n",
    "\n",
    "\targs = parser.parse_args()\n",
    "\n",
    "\tbuild_labels(args.rasterdir, args.vectordir, args.destdir)"
   ]
  }
 ],
 "metadata": {
  "kernelspec": {
   "display_name": "base",
   "language": "python",
   "name": "python3"
  },
  "language_info": {
   "codemirror_mode": {
    "name": "ipython",
    "version": 3
   },
   "file_extension": ".py",
   "mimetype": "text/x-python",
   "name": "python",
   "nbconvert_exporter": "python",
   "pygments_lexer": "ipython3",
   "version": "3.9.13"
  },
  "orig_nbformat": 4,
  "vscode": {
   "interpreter": {
    "hash": "74c70f31e2daa2d49d184097cdbaf9f6c75f00cf0b42af41377b0858e764bdca"
   }
  }
 },
 "nbformat": 4,
 "nbformat_minor": 2
}
